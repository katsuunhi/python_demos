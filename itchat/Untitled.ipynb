{
 "cells": [
  {
   "cell_type": "code",
   "execution_count": null,
   "metadata": {},
   "outputs": [],
   "source": [
    "import itchat"
   ]
  },
  {
   "cell_type": "markdown",
   "metadata": {},
   "source": [
    "###        扫码登录,如果加上hotReload==True会保留最近登录信息"
   ]
  },
  {
   "cell_type": "code",
   "execution_count": null,
   "metadata": {},
   "outputs": [],
   "source": [
    "itchat.auto_login() #登录"
   ]
  },
  {
   "cell_type": "markdown",
   "metadata": {},
   "source": [
    "### get_friends(update = True), 更新好友列表并返回"
   ]
  },
  {
   "cell_type": "code",
   "execution_count": null,
   "metadata": {},
   "outputs": [],
   "source": [
    "friends = itchat.get_friends(update = True)[0:] #获取好友信息"
   ]
  },
  {
   "cell_type": "markdown",
   "metadata": {},
   "source": [
    "### search_friends(), 不加参数表示查找自己的信息，加上参数表示查找对应好友"
   ]
  },
  {
   "cell_type": "code",
   "execution_count": null,
   "metadata": {},
   "outputs": [],
   "source": [
    "myself = itchat.search_friends()\n",
    "print(myself)\n",
    "YuChenAn = itchat.search_friends(name=u\"虞晨安\")[0]['UserName']"
   ]
  },
  {
   "cell_type": "markdown",
   "metadata": {},
   "source": [
    "### send(msg = \"\", toUserName=None) 给好友发消息，省略username表示给自己发消息<br>\n",
    "    @fil@path_to_file : 发送文件\n",
    "\n",
    "    @img@path_to_img : 发送图片\n",
    "\n",
    "    @vid@path_to_video : 发送视频"
   ]
  },
  {
   "cell_type": "code",
   "execution_count": null,
   "metadata": {},
   "outputs": [],
   "source": [
    "itchat.send(msg=\"这是用python发的消息\", toUserName=YuChenAn)\n",
    "ithcat.send(\"@fil@%s\" % '/tmp/test.text')\n",
    "ithcat.send(\"@img@%s\" % '/tmp/test.png')\n",
    "ithcat.send(\"@vid@%s\" % '/tmp/test.mkv')"
   ]
  },
  {
   "cell_type": "markdown",
   "metadata": {},
   "source": [
    "     send_msg(msg = \"\", toUserName=None)\n",
    "     send_file(fileDir,toUserName)\n",
    "     send_image(fileDir,toUserName)\n",
    "     send_video(fileDir,toUserName)\n",
    "     给好友发送 文字、文件、图片、视频"
   ]
  },
  {
   "cell_type": "markdown",
   "metadata": {},
   "source": [
    "### 退出登录"
   ]
  },
  {
   "cell_type": "code",
   "execution_count": null,
   "metadata": {},
   "outputs": [],
   "source": [
    "itchat.logout()"
   ]
  },
  {
   "cell_type": "markdown",
   "metadata": {},
   "source": [
    "### 方法汇总\n",
    "    itchat.add_friend                  \n",
    "    itchat.new_instance                \n",
    "    itchat.add_member_into_chatroom    \n",
    "    itchat.originInstance              \n",
    "    itchat.auto_login                  \n",
    "    itchat.returnvalues                \n",
    "    itchat.check_login                 \n",
    "    itchat.run                         \n",
    "    itchat.components                  \n",
    "    itchat.search_chatrooms            \n",
    "    itchat.config                      \n",
    "    itchat.search_friends              \n",
    "    itchat.configured_reply            \n",
    "    itchat.search_mps                  \n",
    "    itchat.content                     \n",
    "    itchat.send                        \n",
    "    itchat.core                        \n",
    "    itchat.send_file                   \n",
    "    itchat.Core                        \n",
    "    itchat.send_image                  \n",
    "    itchat.create_chatroom             \n",
    "    itchat.send_msg                    \n",
    "    itchat.delete_member_from_chatroom \n",
    "    itchat.send_raw_msg                \n",
    "    itchat.dump_login_status           \n",
    "    itchat.send_video                  \n",
    "    itchat.get_chatrooms               \n",
    "    itchat.set_alias                   \n",
    "    itchat.get_contact                 \n",
    "    itchat.set_chatroom_name           \n",
    "    itchat.get_friends                 \n",
    "    itchat.set_logging                 \n",
    "    itchat.get_head_img                \n",
    "    itchat.set_pinned                  \n",
    "    itchat.get_mps                     \n",
    "    itchat.show_mobile_login           \n",
    "    itchat.get_msg                     \n",
    "    itchat.start_receiving             \n",
    "    itchat.get_QR                      \n",
    "    itchat.storage                     \n",
    "    itchat.get_QRuuid                  \n",
    "    itchat.update_chatroom             \n",
    "    itchat.instanceList                \n",
    "    itchat.update_friend               \n",
    "    itchat.load_login_status           \n",
    "    itchat.upload_file                 \n",
    "    itchat.log                         \n",
    "    itchat.utils                       \n",
    "    itchat.login                       \n",
    "    itchat.VERSION                     \n",
    "    itchat.logout                      \n",
    "    itchat.web_init                    \n",
    "    itchat.msg_register"
   ]
  }
 ],
 "metadata": {
  "kernelspec": {
   "display_name": "Python 3",
   "language": "python",
   "name": "python3"
  },
  "language_info": {
   "codemirror_mode": {
    "name": "ipython",
    "version": 3
   },
   "file_extension": ".py",
   "mimetype": "text/x-python",
   "name": "python",
   "nbconvert_exporter": "python",
   "pygments_lexer": "ipython3",
   "version": "3.7.1"
  }
 },
 "nbformat": 4,
 "nbformat_minor": 2
}
